{
 "cells": [
  {
   "cell_type": "code",
   "execution_count": 1,
   "metadata": {
    "collapsed": true
   },
   "outputs": [],
   "source": [
    "import json\n",
    "import tweepy\n",
    "from tweepy import OAuthHandler\n",
    "\n",
    "consumer_key = 'pWwHpN6ZE1REPXSd17818kEhb'\n",
    "consumer_secret = 'SsqMahSfBJ0r4wvtELrnDhWmbxIGb1uuw7wJb9slncU51SfdyF'\n",
    "access_token = '1905491713-eseJF9m5sDVvegPni6lUvcYdSKaLpW2KosWXgbA'\n",
    "access_token_secret = '5Y3M1hk6VBSFQflVyOqNgRoYgk8UZBj3e3ljoLVTwe2mf'\n",
    " \n",
    "auth = OAuthHandler(consumer_key, consumer_secret)\n",
    "auth.set_access_token(access_token, access_token_secret)\n",
    " \n",
    "api = tweepy.API(auth)"
   ]
  },
  {
   "cell_type": "code",
   "execution_count": 2,
   "metadata": {
    "collapsed": true
   },
   "outputs": [],
   "source": [
    "sample_tweet_id=763431264061755392\n",
    "sample_Status=api.get_status(sample_tweet_id)"
   ]
  },
  {
   "cell_type": "code",
   "execution_count": 11,
   "metadata": {
    "collapsed": false
   },
   "outputs": [],
   "source": [
    "def process_or_store(tweet):\n",
    "    return(json.dumps(tweet))\n",
    "\n",
    "sample_json=process_or_store(sample_Status._json)\n",
    "#print(sample_json)"
   ]
  },
  {
   "cell_type": "markdown",
   "metadata": {},
   "source": [
    "Source: http://stats.seandolinar.com/collecting-twitter-data-storing-tweets-in-mongodb/\n",
    "\n",
    "https://coolprof.wordpress.com/2014/10/19/tweepy-and-pymongo-retrieving-and-storing-tweets-in-mongodb/"
   ]
  },
  {
   "cell_type": "code",
   "execution_count": 12,
   "metadata": {
    "collapsed": true
   },
   "outputs": [],
   "source": [
    "import pymongo"
   ]
  },
  {
   "cell_type": "code",
   "execution_count": 15,
   "metadata": {
    "collapsed": false
   },
   "outputs": [],
   "source": [
    "# Save status to mongo database\n",
    "client = pymongo.MongoClient('localhost', 27017)\n",
    "db = client['twitter_db']\n",
    "collection = db['twitter_collection']"
   ]
  },
  {
   "cell_type": "code",
   "execution_count": null,
   "metadata": {
    "collapsed": false
   },
   "outputs": [],
   "source": [
    "sample_tweet_id=763431264061755392\n",
    "sample_Status=api.get_status(sample_tweet_id)\n"
   ]
  },
  {
   "cell_type": "code",
   "execution_count": null,
   "metadata": {
    "collapsed": true
   },
   "outputs": [],
   "source": [
    "tweet = json.loads(json.dumps(sample_Status))\n",
    "collection.insert(tweet)"
   ]
  },
  {
   "cell_type": "code",
   "execution_count": null,
   "metadata": {
    "collapsed": true
   },
   "outputs": [],
   "source": [
    "# retrieve tweets back\n",
    "tweets_iterator = collection.find()\n",
    "for tweet in tweets_iterator:\n",
    "  print tweet['text']"
   ]
  },
  {
   "cell_type": "code",
   "execution_count": null,
   "metadata": {
    "collapsed": true
   },
   "outputs": [],
   "source": [
    "text = tweet['text']\n",
    "user_screen_name = tweet['user']['screen_name']\n",
    "user_name = tweet['user']['name']\n",
    "retweet_count = tweet['retweeted_status']['retweet_count']\n",
    "retweeted_name = tweet['retweeted_status']['user']['name']\n",
    "retweeted_screen_name = tweet['retweeted_status']['user']['screen_name']"
   ]
  }
 ],
 "metadata": {
  "kernelspec": {
   "display_name": "Python 2",
   "language": "python",
   "name": "python2"
  },
  "language_info": {
   "codemirror_mode": {
    "name": "ipython",
    "version": 2
   },
   "file_extension": ".py",
   "mimetype": "text/x-python",
   "name": "python",
   "nbconvert_exporter": "python",
   "pygments_lexer": "ipython2",
   "version": "2.7.12"
  }
 },
 "nbformat": 4,
 "nbformat_minor": 0
}
