{
 "cells": [
  {
   "cell_type": "markdown",
   "metadata": {},
   "source": [
    "### 1. Try out different ways to extract texts from tweeter ids\n",
    "\n",
    "Second library of Twarc is prefered over tweepy."
   ]
  },
  {
   "cell_type": "code",
   "execution_count": 4,
   "metadata": {
    "collapsed": false
   },
   "outputs": [],
   "source": [
    "# First library : tweepy\n",
    "\n",
    "import tweepy\n",
    "from tweepy import OAuthHandler\n",
    "\n",
    "consumer_key = 'pWwHpN6ZE1REPXSd17818kEhb'\n",
    "consumer_secret = 'SsqMahSfBJ0r4wvtELrnDhWmbxIGb1uuw7wJb9slncU51SfdyF'\n",
    "access_token = '1905491713-eseJF9m5sDVvegPni6lUvcYdSKaLpW2KosWXgbA'\n",
    "access_token_secret = '5Y3M1hk6VBSFQflVyOqNgRoYgk8UZBj3e3ljoLVTwe2mf'\n",
    " \n",
    "auth = OAuthHandler(consumer_key, consumer_secret)\n",
    "auth.set_access_token(access_token, access_token_secret)\n",
    " \n",
    "api = tweepy.API(auth)\n",
    "\n",
    "for tweet_id in (open('sample1.txt')):\n",
    "    print\n",
    "    print(api.get_status(tweet_id).text)"
   ]
  },
  {
   "cell_type": "code",
   "execution_count": 19,
   "metadata": {
    "collapsed": false
   },
   "outputs": [
    {
     "name": "stdout",
     "output_type": "stream",
     "text": [
      "RT @randyprine: Every GOP leader needs to repudiate Trump. https://t.co/O3x0gfClDd\n"
     ]
    }
   ],
   "source": [
    "print(api.get_status(763431266150526976).text)"
   ]
  },
  {
   "cell_type": "code",
   "execution_count": 21,
   "metadata": {
    "collapsed": false
   },
   "outputs": [
    {
     "name": "stdout",
     "output_type": "stream",
     "text": [
      "('######', 0)\n",
      "763431264116416512\n",
      "\n",
      "Emails Renew Questions About Clinton Foundation and State Dept. Overlap https://t.co/E1TVmDZFw4\n",
      "('######', 1)\n",
      "763431263545896960\n",
      "\n",
      "@realDonaldTrump @dbongino @BIZPACReview FUCK CNN &amp; THAT LEMON HEAD IDIOT !!!\n",
      "('######', 2)\n",
      "763431264577728512\n",
      "\n",
      "RT @jasonfekete: Great read here: In 2007, Trump was forced to own up to his falsehoods. And he did. Sort of. https://t.co/yM6JGjrWbD\n",
      "('######', 3)\n",
      "763431264061755392\n",
      "\n",
      "RT @HuffPostBiz: Trump's new economic plan is short on specifics, other than tax help for wealthy https://t.co/vGefdXaiDP https://t.co/Obh9…\n",
      "('######', 4)\n",
      "763431265361993728\n",
      "\n",
      "RT @Middleditch: Great summation of Trump's assassination comment. Trump fans, if any follow me, please read. He's a bad guy. https://t.co/…\n",
      "('######', 5)\n",
      "763431265177595905\n",
      "\n",
      "@HillaryClinton you sand nigger loving diaper wearing bitch Tell u what I consider votin for u if you can walk up stairs on ur own or 1 mile\n",
      "('######', 6)\n",
      "763431265370505216\n",
      "\n",
      "RT @nytopinion: Forget politics, Trump is a disgusting human being. His children should be ashamed of him. https://t.co/EErtmVZr4R https://…\n",
      "('######', 7)\n",
      "763431265660002304\n",
      "\n",
      "RT @MiddleEastEye: \"Clinton proudly locates herself in the Israel camp, on the side of racism and injustice\" https://t.co/cx7gPcKH6T\n",
      "('######', 8)\n",
      "763431265252945921\n",
      "\n",
      "RT @ShaunKing: No outrage from Fox News or Trump.\n",
      "\n",
      "No blaming #BlackLivesMatter.\n",
      " https://t.co/c84VLffAd1\n",
      "('######', 9)\n",
      "763431265743802368\n",
      "\n",
      "RT @newtgingrich: Hillary Clinton snubs police union https://t.co/5b2xCcWg9l\n",
      "('######', 10)\n",
      "763431265508859908\n",
      "\n",
      "RT @ScottPresler: Clinton Foundation official lobbied Clinton aides for a job in the State Department \n",
      "\n",
      "https://t.co/pcfGJ8tCHf\n",
      "\n",
      "#CherylMil…\n",
      "('######', 11)\n",
      "763431265701801984\n",
      "\n"
     ]
    },
    {
     "ename": "TweepError",
     "evalue": "[{u'message': u'Sorry, you are not authorized to see this status.', u'code': 179}]",
     "output_type": "error",
     "traceback": [
      "\u001b[0;31m---------------------------------------------------------------------------\u001b[0m",
      "\u001b[0;31mTweepError\u001b[0m                                Traceback (most recent call last)",
      "\u001b[0;32m<ipython-input-21-d465789100b0>\u001b[0m in \u001b[0;36m<module>\u001b[0;34m()\u001b[0m\n\u001b[1;32m      3\u001b[0m     \u001b[0;32mprint\u001b[0m\u001b[0;34m(\u001b[0m\u001b[0;34m\"######\"\u001b[0m\u001b[0;34m,\u001b[0m\u001b[0mi\u001b[0m\u001b[0;34m)\u001b[0m\u001b[0;34m\u001b[0m\u001b[0m\n\u001b[1;32m      4\u001b[0m     \u001b[0;32mprint\u001b[0m\u001b[0;34m(\u001b[0m\u001b[0mtweet_id\u001b[0m\u001b[0;34m)\u001b[0m\u001b[0;34m\u001b[0m\u001b[0m\n\u001b[0;32m----> 5\u001b[0;31m     \u001b[0;32mprint\u001b[0m\u001b[0;34m(\u001b[0m\u001b[0mapi\u001b[0m\u001b[0;34m.\u001b[0m\u001b[0mget_status\u001b[0m\u001b[0;34m(\u001b[0m\u001b[0mtweet_id\u001b[0m\u001b[0;34m)\u001b[0m\u001b[0;34m.\u001b[0m\u001b[0mtext\u001b[0m\u001b[0;34m)\u001b[0m\u001b[0;34m\u001b[0m\u001b[0m\n\u001b[0m\u001b[1;32m      6\u001b[0m     \u001b[0mi\u001b[0m \u001b[0;34m+=\u001b[0m\u001b[0;36m1\u001b[0m\u001b[0;34m\u001b[0m\u001b[0m\n",
      "\u001b[0;32m/Users/evayifangong/anaconda/lib/python2.7/site-packages/tweepy/binder.pyc\u001b[0m in \u001b[0;36m_call\u001b[0;34m(*args, **kwargs)\u001b[0m\n\u001b[1;32m    243\u001b[0m             \u001b[0;32mreturn\u001b[0m \u001b[0mmethod\u001b[0m\u001b[0;34m\u001b[0m\u001b[0m\n\u001b[1;32m    244\u001b[0m         \u001b[0;32melse\u001b[0m\u001b[0;34m:\u001b[0m\u001b[0;34m\u001b[0m\u001b[0m\n\u001b[0;32m--> 245\u001b[0;31m             \u001b[0;32mreturn\u001b[0m \u001b[0mmethod\u001b[0m\u001b[0;34m.\u001b[0m\u001b[0mexecute\u001b[0m\u001b[0;34m(\u001b[0m\u001b[0;34m)\u001b[0m\u001b[0;34m\u001b[0m\u001b[0m\n\u001b[0m\u001b[1;32m    246\u001b[0m \u001b[0;34m\u001b[0m\u001b[0m\n\u001b[1;32m    247\u001b[0m     \u001b[0;31m# Set pagination mode\u001b[0m\u001b[0;34m\u001b[0m\u001b[0;34m\u001b[0m\u001b[0m\n",
      "\u001b[0;32m/Users/evayifangong/anaconda/lib/python2.7/site-packages/tweepy/binder.pyc\u001b[0m in \u001b[0;36mexecute\u001b[0;34m(self)\u001b[0m\n\u001b[1;32m    227\u001b[0m                     \u001b[0;32mraise\u001b[0m \u001b[0mRateLimitError\u001b[0m\u001b[0;34m(\u001b[0m\u001b[0merror_msg\u001b[0m\u001b[0;34m,\u001b[0m \u001b[0mresp\u001b[0m\u001b[0;34m)\u001b[0m\u001b[0;34m\u001b[0m\u001b[0m\n\u001b[1;32m    228\u001b[0m                 \u001b[0;32melse\u001b[0m\u001b[0;34m:\u001b[0m\u001b[0;34m\u001b[0m\u001b[0m\n\u001b[0;32m--> 229\u001b[0;31m                     \u001b[0;32mraise\u001b[0m \u001b[0mTweepError\u001b[0m\u001b[0;34m(\u001b[0m\u001b[0merror_msg\u001b[0m\u001b[0;34m,\u001b[0m \u001b[0mresp\u001b[0m\u001b[0;34m,\u001b[0m \u001b[0mapi_code\u001b[0m\u001b[0;34m=\u001b[0m\u001b[0mapi_error_code\u001b[0m\u001b[0;34m)\u001b[0m\u001b[0;34m\u001b[0m\u001b[0m\n\u001b[0m\u001b[1;32m    230\u001b[0m \u001b[0;34m\u001b[0m\u001b[0m\n\u001b[1;32m    231\u001b[0m             \u001b[0;31m# Parse the response payload\u001b[0m\u001b[0;34m\u001b[0m\u001b[0;34m\u001b[0m\u001b[0m\n",
      "\u001b[0;31mTweepError\u001b[0m: [{u'message': u'Sorry, you are not authorized to see this status.', u'code': 179}]"
     ]
    }
   ],
   "source": [
    "i=0\n",
    "for tweet_id in (open('sample1.txt')):\n",
    "    print(\"###### \"+ str(i) + \"###\"\n",
    "    print(tweet_id)\n",
    "    print(api.get_status(tweet_id).text)\n",
    "    i +=1"
   ]
  },
  {
   "cell_type": "code",
   "execution_count": 15,
   "metadata": {
    "collapsed": false
   },
   "outputs": [
    {
     "name": "stdout",
     "output_type": "stream",
     "text": [
      "RT @ShaunKing: No outrage from Fox News or Trump.\n",
      "\n",
      "No blaming #BlackLivesMatter.\n",
      " https://t.co/c84VLffAd1\n",
      "RT @hughhewitt: Should b lead story of the AM: https://t.co/Q2zWG3y1KD. It isn't b/c of @realDonaldTrump gaffe. Crime/corruption overshadow…\n",
      "@HillaryClinton you sand nigger loving diaper wearing bitch Tell u what I consider votin for u if you can walk up stairs on ur own or 1 mile\n",
      "RT @JenniferMayer: Hillary Clinton’s Embrace of Kissinger Is Inexcusable: \"Kissinger is a unique monster\" https://t.co/X3IDNoDISP @GregGran…\n",
      "RT @randyprine: Every GOP leader needs to repudiate Trump. https://t.co/O3x0gfClDd\n",
      "RT @Middleditch: Great summation of Trump's assassination comment. Trump fans, if any follow me, please read. He's a bad guy. https://t.co/…\n",
      "RT @jasonfekete: Great read here: In 2007, Trump was forced to own up to his falsehoods. And he did. Sort of. https://t.co/yM6JGjrWbD\n",
      "RT @OnPointRadio: ’Trump's said about 150 things that would disqualify anybody else from running for President.’ @GovGaryJohnson https://t.…\n",
      "RT @nytopinion: Forget politics, Trump is a disgusting human being. His children should be ashamed of him. https://t.co/EErtmVZr4R https://…\n",
      "@realDonaldTrump @dbongino @BIZPACReview FUCK CNN &amp; THAT LEMON HEAD IDIOT !!!\n",
      "@jmarshall8211 @LawrenceReid08 @realDenaldTrump i consulted the DSM-5 for my assessment of Trump. Look what ai found https://t.co/EkZESopfuA\n",
      "RT @newtgingrich: Hillary Clinton snubs police union https://t.co/5b2xCcWg9l\n",
      "RT @MiddleEastEye: \"Clinton proudly locates herself in the Israel camp, on the side of racism and injustice\" https://t.co/cx7gPcKH6T\n",
      "Emails Renew Questions About Clinton Foundation and State Dept. Overlap https://t.co/E1TVmDZFw4\n",
      "RT @sanepolitico: Denis O'Brien donates to the Clinton foundation.\n",
      "RT @vivelafra: If this man is Dr Oladotun Okunola, a neurologist specializing in seizures, isn't #Hillary's campaign over?  #Trump https://…\n",
      "RT @HuffPostBiz: Trump's new economic plan is short on specifics, other than tax help for wealthy https://t.co/vGefdXaiDP https://t.co/Obh9…\n",
      "RT @dredeyedick: If Trump was \"joking\", why say \"&amp; that will be a horrible day.\"?This was no joke. It was fomenting Insurrection. https://t…\n",
      "RT @ScottPresler: Clinton Foundation official lobbied Clinton aides for a job in the State Department \n",
      "\n",
      "https://t.co/pcfGJ8tCHf\n",
      "\n",
      "#CherylMil…\n"
     ]
    }
   ],
   "source": [
    "# Second library : Twarc\n",
    "\n",
    "from twarc import Twarc\n",
    "\n",
    "# Twitter credentials\n",
    "consumer_key = 'pWwHpN6ZE1REPXSd17818kEhb'\n",
    "consumer_secret = 'SsqMahSfBJ0r4wvtELrnDhWmbxIGb1uuw7wJb9slncU51SfdyF'\n",
    "access_token = '1905491713-eseJF9m5sDVvegPni6lUvcYdSKaLpW2KosWXgbA'\n",
    "access_token_secret = '5Y3M1hk6VBSFQflVyOqNgRoYgk8UZBj3e3ljoLVTwe2mf'\n",
    "\n",
    "t = Twarc(consumer_key, consumer_secret, access_token, access_token_secret)\n",
    "for tweet in t.hydrate(open('sample1.txt')):\n",
    "    print(tweet[\"text\"])\n"
   ]
  },
  {
   "cell_type": "code",
   "execution_count": null,
   "metadata": {
    "collapsed": true
   },
   "outputs": [],
   "source": []
  }
 ],
 "metadata": {
  "kernelspec": {
   "display_name": "Python 2",
   "language": "python",
   "name": "python2"
  },
  "language_info": {
   "codemirror_mode": {
    "name": "ipython",
    "version": 2
   },
   "file_extension": ".py",
   "mimetype": "text/x-python",
   "name": "python",
   "nbconvert_exporter": "python",
   "pygments_lexer": "ipython2",
   "version": "2.7.12"
  }
 },
 "nbformat": 4,
 "nbformat_minor": 0
}
