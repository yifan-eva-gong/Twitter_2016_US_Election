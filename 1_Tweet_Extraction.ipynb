{
 "cells": [
  {
   "cell_type": "markdown",
   "metadata": {},
   "source": [
    "### Part 1. Try out different ways to extract texts given tweeter ids\n",
    "\n",
    "The first library is prefered."
   ]
  },
  {
   "cell_type": "code",
   "execution_count": 4,
   "metadata": {
    "collapsed": false
   },
   "outputs": [],
   "source": [
    "# First library : tweepy\n",
    "\n",
    "import tweepy\n",
    "from tweepy import OAuthHandler\n",
    "\n",
    "consumer_key = 'pWwHpN6ZE1REPXSd17818kEhb'\n",
    "consumer_secret = 'SsqMahSfBJ0r4wvtELrnDhWmbxIGb1uuw7wJb9slncU51SfdyF'\n",
    "access_token = '1905491713-eseJF9m5sDVvegPni6lUvcYdSKaLpW2KosWXgbA'\n",
    "access_token_secret = '5Y3M1hk6VBSFQflVyOqNgRoYgk8UZBj3e3ljoLVTwe2mf'\n",
    " \n",
    "auth = OAuthHandler(consumer_key, consumer_secret)\n",
    "auth.set_access_token(access_token, access_token_secret)\n",
    " \n",
    "api = tweepy.API(auth)\n",
    "\n"
   ]
  },
  {
   "cell_type": "code",
   "execution_count": 23,
   "metadata": {
    "collapsed": false
   },
   "outputs": [
    {
     "name": "stdout",
     "output_type": "stream",
     "text": [
      "###### 0\n",
      "763431264116416512\n",
      "\n",
      "Emails Renew Questions About Clinton Foundation and State Dept. Overlap https://t.co/E1TVmDZFw4\n",
      "###### 1\n",
      "763431263545896960\n",
      "\n",
      "@realDonaldTrump @dbongino @BIZPACReview FUCK CNN &amp; THAT LEMON HEAD IDIOT !!!\n",
      "###### 2\n",
      "763431264577728512\n",
      "\n",
      "RT @jasonfekete: Great read here: In 2007, Trump was forced to own up to his falsehoods. And he did. Sort of. https://t.co/yM6JGjrWbD\n",
      "###### 3\n",
      "763431264061755392\n",
      "\n",
      "RT @HuffPostBiz: Trump's new economic plan is short on specifics, other than tax help for wealthy https://t.co/vGefdXaiDP https://t.co/Obh9…\n",
      "###### 4\n",
      "763431265361993728\n",
      "\n",
      "RT @Middleditch: Great summation of Trump's assassination comment. Trump fans, if any follow me, please read. He's a bad guy. https://t.co/…\n",
      "###### 5\n",
      "763431265177595905\n",
      "\n",
      "@HillaryClinton you sand nigger loving diaper wearing bitch Tell u what I consider votin for u if you can walk up stairs on ur own or 1 mile\n",
      "###### 6\n",
      "763431265370505216\n",
      "\n",
      "RT @nytopinion: Forget politics, Trump is a disgusting human being. His children should be ashamed of him. https://t.co/EErtmVZr4R https://…\n",
      "###### 7\n",
      "763431265660002304\n",
      "\n",
      "RT @MiddleEastEye: \"Clinton proudly locates herself in the Israel camp, on the side of racism and injustice\" https://t.co/cx7gPcKH6T\n",
      "###### 8\n",
      "763431265252945921\n",
      "\n",
      "RT @ShaunKing: No outrage from Fox News or Trump.\n",
      "\n",
      "No blaming #BlackLivesMatter.\n",
      " https://t.co/c84VLffAd1\n",
      "###### 9\n",
      "763431265743802368\n",
      "\n",
      "RT @newtgingrich: Hillary Clinton snubs police union https://t.co/5b2xCcWg9l\n",
      "###### 10\n",
      "763431265508859908\n",
      "\n",
      "RT @ScottPresler: Clinton Foundation official lobbied Clinton aides for a job in the State Department \n",
      "\n",
      "https://t.co/pcfGJ8tCHf\n",
      "\n",
      "#CherylMil…\n",
      "###### 11\n",
      "763431265701801984\n",
      "\n",
      "###### 11\n",
      "763431266171645952\n",
      "\n",
      "RT @dredeyedick: If Trump was \"joking\", why say \"&amp; that will be a horrible day.\"?This was no joke. It was fomenting Insurrection. https://t…\n",
      "###### 12\n",
      "763431266158911488\n",
      "\n",
      "RT @hughhewitt: Should b lead story of the AM: https://t.co/Q2zWG3y1KD. It isn't b/c of @realDonaldTrump gaffe. Crime/corruption overshadow…\n",
      "###### 13\n",
      "763431265479516160\n",
      "\n",
      "###### 13\n",
      "763431266347782145\n",
      "\n",
      "RT @JenniferMayer: Hillary Clinton’s Embrace of Kissinger Is Inexcusable: \"Kissinger is a unique monster\" https://t.co/X3IDNoDISP @GregGran…\n",
      "###### 14\n",
      "763431264393322496\n",
      "\n",
      "@jmarshall8211 @LawrenceReid08 @realDenaldTrump i consulted the DSM-5 for my assessment of Trump. Look what ai found https://t.co/EkZESopfuA\n",
      "###### 15\n",
      "763431265437487104\n",
      "\n",
      "RT @vivelafra: If this man is Dr Oladotun Okunola, a neurologist specializing in seizures, isn't #Hillary's campaign over?  #Trump https://…\n",
      "###### 16\n",
      "763431266150526976\n",
      "\n",
      "RT @randyprine: Every GOP leader needs to repudiate Trump. https://t.co/O3x0gfClDd\n",
      "###### 17\n",
      "763431266918232065\n",
      "\n",
      "RT @sanepolitico: Denis O'Brien donates to the Clinton foundation.\n",
      "###### 18\n",
      "763431267304140801\n",
      "\n",
      "###### 18\n",
      "763431267362672640\n",
      "\n",
      "RT @OnPointRadio: ’Trump's said about 150 things that would disqualify anybody else from running for President.’ @GovGaryJohnson https://t.…\n"
     ]
    }
   ],
   "source": [
    "i=0\n",
    "for tweet_id in (open('sample1.txt')):\n",
    "    try:\n",
    "        print(\"###### \"+ str(i) + \"\")\n",
    "        print(tweet_id)\n",
    "        print(api.get_status(tweet_id).text)\n",
    "        i +=1\n",
    "    except Exception:\n",
    "        pass"
   ]
  },
  {
   "cell_type": "code",
   "execution_count": 15,
   "metadata": {
    "collapsed": false
   },
   "outputs": [
    {
     "name": "stdout",
     "output_type": "stream",
     "text": [
      "RT @ShaunKing: No outrage from Fox News or Trump.\n",
      "\n",
      "No blaming #BlackLivesMatter.\n",
      " https://t.co/c84VLffAd1\n",
      "RT @hughhewitt: Should b lead story of the AM: https://t.co/Q2zWG3y1KD. It isn't b/c of @realDonaldTrump gaffe. Crime/corruption overshadow…\n",
      "@HillaryClinton you sand nigger loving diaper wearing bitch Tell u what I consider votin for u if you can walk up stairs on ur own or 1 mile\n",
      "RT @JenniferMayer: Hillary Clinton’s Embrace of Kissinger Is Inexcusable: \"Kissinger is a unique monster\" https://t.co/X3IDNoDISP @GregGran…\n",
      "RT @randyprine: Every GOP leader needs to repudiate Trump. https://t.co/O3x0gfClDd\n",
      "RT @Middleditch: Great summation of Trump's assassination comment. Trump fans, if any follow me, please read. He's a bad guy. https://t.co/…\n",
      "RT @jasonfekete: Great read here: In 2007, Trump was forced to own up to his falsehoods. And he did. Sort of. https://t.co/yM6JGjrWbD\n",
      "RT @OnPointRadio: ’Trump's said about 150 things that would disqualify anybody else from running for President.’ @GovGaryJohnson https://t.…\n",
      "RT @nytopinion: Forget politics, Trump is a disgusting human being. His children should be ashamed of him. https://t.co/EErtmVZr4R https://…\n",
      "@realDonaldTrump @dbongino @BIZPACReview FUCK CNN &amp; THAT LEMON HEAD IDIOT !!!\n",
      "@jmarshall8211 @LawrenceReid08 @realDenaldTrump i consulted the DSM-5 for my assessment of Trump. Look what ai found https://t.co/EkZESopfuA\n",
      "RT @newtgingrich: Hillary Clinton snubs police union https://t.co/5b2xCcWg9l\n",
      "RT @MiddleEastEye: \"Clinton proudly locates herself in the Israel camp, on the side of racism and injustice\" https://t.co/cx7gPcKH6T\n",
      "Emails Renew Questions About Clinton Foundation and State Dept. Overlap https://t.co/E1TVmDZFw4\n",
      "RT @sanepolitico: Denis O'Brien donates to the Clinton foundation.\n",
      "RT @vivelafra: If this man is Dr Oladotun Okunola, a neurologist specializing in seizures, isn't #Hillary's campaign over?  #Trump https://…\n",
      "RT @HuffPostBiz: Trump's new economic plan is short on specifics, other than tax help for wealthy https://t.co/vGefdXaiDP https://t.co/Obh9…\n",
      "RT @dredeyedick: If Trump was \"joking\", why say \"&amp; that will be a horrible day.\"?This was no joke. It was fomenting Insurrection. https://t…\n",
      "RT @ScottPresler: Clinton Foundation official lobbied Clinton aides for a job in the State Department \n",
      "\n",
      "https://t.co/pcfGJ8tCHf\n",
      "\n",
      "#CherylMil…\n"
     ]
    }
   ],
   "source": [
    "# Second library : Twarc\n",
    "\n",
    "from twarc import Twarc\n",
    "\n",
    "# Twitter credentials\n",
    "consumer_key = 'pWwHpN6ZE1REPXSd17818kEhb'\n",
    "consumer_secret = 'SsqMahSfBJ0r4wvtELrnDhWmbxIGb1uuw7wJb9slncU51SfdyF'\n",
    "access_token = '1905491713-eseJF9m5sDVvegPni6lUvcYdSKaLpW2KosWXgbA'\n",
    "access_token_secret = '5Y3M1hk6VBSFQflVyOqNgRoYgk8UZBj3e3ljoLVTwe2mf'\n",
    "\n",
    "t = Twarc(consumer_key, consumer_secret, access_token, access_token_secret)\n",
    "for tweet in t.hydrate(open('sample1.txt')):\n",
    "    print(tweet[\"text\"])\n"
   ]
  },
  {
   "cell_type": "code",
   "execution_count": null,
   "metadata": {
    "collapsed": true
   },
   "outputs": [],
   "source": []
  }
 ],
 "metadata": {
  "kernelspec": {
   "display_name": "Python 2",
   "language": "python",
   "name": "python2"
  },
  "language_info": {
   "codemirror_mode": {
    "name": "ipython",
    "version": 2
   },
   "file_extension": ".py",
   "mimetype": "text/x-python",
   "name": "python",
   "nbconvert_exporter": "python",
   "pygments_lexer": "ipython2",
   "version": "2.7.12"
  }
 },
 "nbformat": 4,
 "nbformat_minor": 0
}
